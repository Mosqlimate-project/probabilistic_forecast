{
 "cells": [
  {
   "cell_type": "code",
   "execution_count": 1,
   "id": "873a6482",
   "metadata": {
    "ExecuteTime": {
     "end_time": "2024-01-21T01:06:52.610256832Z",
     "start_time": "2024-01-21T01:06:51.194870715Z"
    }
   },
   "source": [
    "import pandas as pd\n",
    "from train_models import train_dl_model, LOOK_BACK, PREDICT_N\n",
    "from lstm import apply_model, custom_loss_msle, custom_loss_msle_slope"
   ],
   "outputs": []
  },
  {
   "cell_type": "code",
   "execution_count": 2,
   "id": "c7ddf7a3",
   "metadata": {},
   "source": [
    "LOOK_BACK = 8"
   ],
   "outputs": []
  },
  {
   "cell_type": "code",
   "execution_count": 3,
   "id": "14c71640",
   "metadata": {},
   "source": [
    "PREDICT_N = 4 "
   ],
   "outputs": []
  },
  {
   "cell_type": "code",
   "execution_count": 5,
   "id": "00f0092a",
   "metadata": {},
   "source": [
    "city = 3103\n",
    "end_date = '2024-04-28'\n",
    "metrics1 = apply_model(city, ini_date = '2015-06-01', \n",
    "                    end_date = end_date, look_back = LOOK_BACK, end_train_date = '2024-04-21', batch_size = 1, \n",
    "                    predict_n = PREDICT_N,  ratio = None,\n",
    "                    label_pred= f'dengue_{city}',\n",
    "                    model_name = f'trained_{city}_dengue_macro_4', \n",
    "                    filename = f'../data/dengue_{city}.csv.gz', plot = True)"
   ],
   "outputs": []
  },
  {
   "cell_type": "code",
   "execution_count": null,
   "id": "19c3f234",
   "metadata": {},
   "source": [],
   "outputs": []
  }
 ],
 "metadata": {
  "kernelspec": {
   "display_name": "Python 3 (ipykernel)",
   "language": "python",
   "name": "python3"
  },
  "language_info": {
   "codemirror_mode": {
    "name": "ipython",
    "version": 3
   },
   "file_extension": ".py",
   "mimetype": "text/x-python",
   "name": "python",
   "nbconvert_exporter": "python",
   "pygments_lexer": "ipython3",
   "version": "3.9.16"
  }
 },
 "nbformat": 4,
 "nbformat_minor": 5
}
