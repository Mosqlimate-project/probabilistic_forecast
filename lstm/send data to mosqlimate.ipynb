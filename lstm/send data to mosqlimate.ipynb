{
 "cells": [
  {
   "cell_type": "code",
   "execution_count": 1,
   "id": "1229d8df",
   "metadata": {},
   "outputs": [],
   "source": [
    "import requests\n",
    "import numpy as np\n",
    "import pandas as pd\n",
    "import glob"
   ]
  },
  {
   "cell_type": "code",
   "execution_count": 3,
   "id": "516a4238",
   "metadata": {},
   "outputs": [],
   "source": [
    "import os\n",
    "from dotenv import load_dotenv\n",
    "\n",
    "load_dotenv()\n",
    "API_KEY = os.getenv(\"API_KEY\")\n"
   ]
  },
  {
   "cell_type": "code",
   "execution_count": 4,
   "id": "f54f1abc",
   "metadata": {},
   "outputs": [
    {
     "data": {
      "text/html": [
       "<div>\n",
       "<style scoped>\n",
       "    .dataframe tbody tr th:only-of-type {\n",
       "        vertical-align: middle;\n",
       "    }\n",
       "\n",
       "    .dataframe tbody tr th {\n",
       "        vertical-align: top;\n",
       "    }\n",
       "\n",
       "    .dataframe thead th {\n",
       "        text-align: right;\n",
       "    }\n",
       "</style>\n",
       "<table border=\"1\" class=\"dataframe\">\n",
       "  <thead>\n",
       "    <tr style=\"text-align: right;\">\n",
       "      <th></th>\n",
       "      <th>date</th>\n",
       "      <th>lower_2_5</th>\n",
       "      <th>lower_25</th>\n",
       "      <th>forecast</th>\n",
       "      <th>upper_75</th>\n",
       "      <th>upper_97_5</th>\n",
       "      <th>macroregion</th>\n",
       "      <th>prob_high</th>\n",
       "      <th>prob_low</th>\n",
       "      <th>HT</th>\n",
       "      <th>LT</th>\n",
       "      <th>HTinc</th>\n",
       "      <th>LTinc</th>\n",
       "    </tr>\n",
       "  </thead>\n",
       "  <tbody>\n",
       "    <tr>\n",
       "      <th>0</th>\n",
       "      <td>2024-05-05</td>\n",
       "      <td>4276.373670</td>\n",
       "      <td>5465.242687</td>\n",
       "      <td>6209.303324</td>\n",
       "      <td>7543.832963</td>\n",
       "      <td>10095.241303</td>\n",
       "      <td>3103</td>\n",
       "      <td>99.0</td>\n",
       "      <td>0.0</td>\n",
       "      <td>3280.718607</td>\n",
       "      <td>673.196714</td>\n",
       "      <td>49.090948</td>\n",
       "      <td>10.073362</td>\n",
       "    </tr>\n",
       "    <tr>\n",
       "      <th>1</th>\n",
       "      <td>2024-05-12</td>\n",
       "      <td>2457.590678</td>\n",
       "      <td>3745.685553</td>\n",
       "      <td>4339.173626</td>\n",
       "      <td>5132.682524</td>\n",
       "      <td>8473.411287</td>\n",
       "      <td>3103</td>\n",
       "      <td>97.0</td>\n",
       "      <td>0.0</td>\n",
       "      <td>2544.982887</td>\n",
       "      <td>570.514218</td>\n",
       "      <td>38.081786</td>\n",
       "      <td>8.536875</td>\n",
       "    </tr>\n",
       "    <tr>\n",
       "      <th>2</th>\n",
       "      <td>2024-05-19</td>\n",
       "      <td>2509.969844</td>\n",
       "      <td>3711.559683</td>\n",
       "      <td>4295.637651</td>\n",
       "      <td>5264.572726</td>\n",
       "      <td>7467.471999</td>\n",
       "      <td>3103</td>\n",
       "      <td>99.0</td>\n",
       "      <td>0.0</td>\n",
       "      <td>2001.310317</td>\n",
       "      <td>532.280058</td>\n",
       "      <td>29.946555</td>\n",
       "      <td>7.964759</td>\n",
       "    </tr>\n",
       "    <tr>\n",
       "      <th>3</th>\n",
       "      <td>2024-05-26</td>\n",
       "      <td>2689.863188</td>\n",
       "      <td>3702.952741</td>\n",
       "      <td>4396.027439</td>\n",
       "      <td>5151.970963</td>\n",
       "      <td>7472.739677</td>\n",
       "      <td>3103</td>\n",
       "      <td>100.0</td>\n",
       "      <td>0.0</td>\n",
       "      <td>1488.280761</td>\n",
       "      <td>494.161677</td>\n",
       "      <td>22.269851</td>\n",
       "      <td>7.394375</td>\n",
       "    </tr>\n",
       "  </tbody>\n",
       "</table>\n",
       "</div>"
      ],
      "text/plain": [
       "         date    lower_2_5     lower_25     forecast     upper_75  \\\n",
       "0  2024-05-05  4276.373670  5465.242687  6209.303324  7543.832963   \n",
       "1  2024-05-12  2457.590678  3745.685553  4339.173626  5132.682524   \n",
       "2  2024-05-19  2509.969844  3711.559683  4295.637651  5264.572726   \n",
       "3  2024-05-26  2689.863188  3702.952741  4396.027439  5151.970963   \n",
       "\n",
       "     upper_97_5  macroregion  prob_high  prob_low           HT          LT  \\\n",
       "0  10095.241303         3103       99.0       0.0  3280.718607  673.196714   \n",
       "1   8473.411287         3103       97.0       0.0  2544.982887  570.514218   \n",
       "2   7467.471999         3103       99.0       0.0  2001.310317  532.280058   \n",
       "3   7472.739677         3103      100.0       0.0  1488.280761  494.161677   \n",
       "\n",
       "       HTinc      LTinc  \n",
       "0  49.090948  10.073362  \n",
       "1  38.081786   8.536875  \n",
       "2  29.946555   7.964759  \n",
       "3  22.269851   7.394375  "
      ]
     },
     "execution_count": 4,
     "metadata": {},
     "output_type": "execute_result"
    }
   ],
   "source": [
    "for i, m in enumerate(glob.glob('./forecast_tables/forecast_[0-9][0-9][0-9][0-9].csv.gz')):\n",
    "        if i == 0:\n",
    "            df = pd.read_csv(m, index_col = 'Unnamed: 0')\n",
    "            dates = df.date.unique()\n",
    "        else:\n",
    "            df = pd.concat([df, pd.read_csv(m, index_col = 'Unnamed: 0')])\n",
    "            \n",
    "df"
   ]
  },
  {
   "cell_type": "code",
   "execution_count": 5,
   "id": "2ef05f7a",
   "metadata": {},
   "outputs": [
    {
     "data": {
      "text/plain": [
       "(1,)"
      ]
     },
     "execution_count": 5,
     "metadata": {},
     "output_type": "execute_result"
    }
   ],
   "source": [
    "df.macroregion.unique().shape"
   ]
  },
  {
   "cell_type": "code",
   "execution_count": 6,
   "id": "5c847b3c",
   "metadata": {},
   "outputs": [
    {
     "data": {
      "text/plain": [
       "Index(['date', 'lower_2_5', 'lower_25', 'forecast', 'upper_75', 'upper_97_5',\n",
       "       'macroregion', 'prob_high', 'prob_low', 'HT', 'LT', 'HTinc', 'LTinc'],\n",
       "      dtype='object')"
      ]
     },
     "execution_count": 6,
     "metadata": {},
     "output_type": "execute_result"
    }
   ],
   "source": [
    "df.columns"
   ]
  },
  {
   "cell_type": "code",
   "execution_count": 7,
   "id": "f5ca1633",
   "metadata": {},
   "outputs": [],
   "source": [
    "def post_prob_res_forecast(data: dict):\n",
    "    url = \"https://api.mosqlimate.org/api/vis/results-prob-forecast/\"\n",
    "    headers = {\"X-UID-Key\":API_KEY }\n",
    "    return requests.post(url, json=data, headers=headers)"
   ]
  },
  {
   "cell_type": "code",
   "execution_count": 8,
   "id": "c4b91b0b",
   "metadata": {},
   "outputs": [
    {
     "name": "stdout",
     "output_type": "stream",
     "text": [
      "CPU times: user 251 ms, sys: 50.3 ms, total: 301 ms\n",
      "Wall time: 7.85 s\n"
     ]
    }
   ],
   "source": [
    "%%time\n",
    "for _, r in df.iterrows(): \n",
    "    \n",
    "    data = {}\n",
    "    \n",
    "    data[\"date\"] = r['date']\n",
    "    data['disease'] = 'dengue'\n",
    "    data[\"geocode\"] = r['macroregion']\n",
    "    data[\"lower_2_5\"] = r['lower_2_5']\n",
    "    data[\"lower_25\"] = r['lower_25']\n",
    "    data[\"forecast\"] = r['forecast']\n",
    "    data[\"upper_75\"] = r['upper_75']\n",
    "    data[\"upper_97_5\"] = r['upper_97_5']\n",
    "    data[\"prob_high\"] = r['prob_high']\n",
    "    data[\"prob_low\"] =  r['prob_low']\n",
    "    data[\"high_threshold\"] = r['HT']\n",
    "    data[\"low_threshold\"] = r['LT']\n",
    "    data[\"high_incidence_threshold\"] = r['HTinc']\n",
    "    data[\"low_incidence_threshold\"] = r['LTinc']\n",
    "    \n",
    "    if post_prob_res_forecast(data).status_code != 201:\n",
    "        if post_prob_res_forecast(data).status_code == 403:\n",
    "            pass\n",
    "        else: \n",
    "            raise ValueError(\"Not inserted\")\n"
   ]
  }
 ],
 "metadata": {
  "kernelspec": {
   "display_name": "Python 3 (ipykernel)",
   "language": "python",
   "name": "python3"
  },
  "language_info": {
   "codemirror_mode": {
    "name": "ipython",
    "version": 3
   },
   "file_extension": ".py",
   "mimetype": "text/x-python",
   "name": "python",
   "nbconvert_exporter": "python",
   "pygments_lexer": "ipython3",
   "version": "3.9.16"
  }
 },
 "nbformat": 4,
 "nbformat_minor": 5
}
